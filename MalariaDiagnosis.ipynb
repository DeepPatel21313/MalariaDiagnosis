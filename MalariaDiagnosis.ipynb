{
  "cells": [
    {
      "cell_type": "markdown",
      "metadata": {
        "id": "view-in-github",
        "colab_type": "text"
      },
      "source": [
        "<a href=\"https://colab.research.google.com/github/DeepPatel21313/MalariaDiagnosis/blob/main/MalariaDiagnosis.ipynb\" target=\"_parent\"><img src=\"https://colab.research.google.com/assets/colab-badge.svg\" alt=\"Open In Colab\"/></a>"
      ]
    },
    {
      "cell_type": "code",
      "execution_count": null,
      "metadata": {
        "id": "TronmI31hpmB"
      },
      "outputs": [],
      "source": [
        "import tensorflow as tf\n",
        "import numpy as np\n",
        "import matplotlib.pyplot as plt\n",
        "import tensorflow_datasets as tfds\n",
        "from tensorflow.keras.layers import Conv2D, MaxPool2D, Dense, Flatten, InputLayer, BatchNormalization\n",
        "from tensorflow.keras.losses import BinaryCrossentropy\n",
        "from tensorflow.keras.optimizers import Adam"
      ]
    },
    {
      "cell_type": "markdown",
      "metadata": {
        "id": "oa1fc-fxtHQV"
      },
      "source": [
        "# Data Preparation\n",
        "# Data Loading\n"
      ]
    },
    {
      "cell_type": "code",
      "execution_count": null,
      "metadata": {
        "colab": {
          "base_uri": "https://localhost:8080/",
          "height": 1000,
          "referenced_widgets": [
            "90961743f78447418c7d4e733457848f",
            "b4ab2311bdb5479498197ace497737d9",
            "a0a066755fc146da9acd183340cd2d6b",
            "02e81e14553a4a5e9380545814431007",
            "6490ace3b46e47f1a22dafc59cb23197",
            "6e753c65f6b647a0b2d24801c9555355",
            "9d4696bc72584ea187a903e6ecc69157",
            "00845f52cff340c7ab854595d4cca436",
            "5f93399ab8b84d73a5aa15f35d00bd1f",
            "b60de959e99146d486a7cc9d0c4789c2",
            "c2f0bea461b74853a9b5aa1f8059d24e",
            "ff07957a8cba46baab22bb998eaab1a5",
            "1cef52106cd44d118048b86021fe76fa",
            "97eea2b3f06d496abab93d933fd58d3f",
            "368cdbac7a7a48c98675643cc2b148a0",
            "18de86721bad4dc2ba67eebcf4ff6bc0",
            "c8b7dfa6dacc4034ac31c344d73b53c3",
            "4d6e067decd146b8be9dcd5d93c50c8c",
            "5688fc16a73b45a8a1ed1f6131fdbabb",
            "951daa3cc89a454c82af98b83a296aff",
            "7c59c1cded344ea8a1e703eecbed2852",
            "a246bb5ac8224cf4a57c109c798fa44f",
            "d0bbe7d6641e40f785411f7f4a49364c",
            "47f93c1214e44b63ad13ebcfa78c9ffa",
            "7c5747fa889a45f6aadfd153201e47d3",
            "1c719ce68e8b4acbb72494f77fccc8af",
            "89a130fdc76347e6ac060b08a11d4976",
            "f7b59b09b22341e48328bb6d00be2506",
            "2a46102361824058b5235d39d9bc1fc2",
            "74e2442331564b1088067e01c5a7242a",
            "073c3a25f7b8405f87240448950810ad",
            "04a360897ebf4298b92d3b788d1d3a8e",
            "39bdfc51c0124e3ba09f0fb8b86527ef",
            "bc81c47fe85a4d3188d574a17d07f9fc",
            "6cbce24eab134cec9542852504d2b4bd",
            "08c9bfd36d0d4dc788e59d8b1b61d64c",
            "36ef8900a80e40d3a3d94e391be681e7",
            "81410d8db269403ea39fc3db9f83d5a6",
            "6bfe2c7a556842478b417c7416afbf5a",
            "40697c93fd7a4f65acf53b4a32c31d29",
            "af00fd38b05943bdbe2e3df4f4b94a73",
            "f7ac2952da1b48998320eb90b0c2b388",
            "0e960e0d9bd646d49bb2736ef856c516",
            "b59d9c352d994018915f7d426ef2ac28",
            "1a592baa768d4c8f817d1e4ec975dc22",
            "8880b31544a14df3b654ef6e75a109c9",
            "66555f2202f44bc2a07dae0796088990",
            "cb5a6e6e556047f78f2a96e0868d23e9",
            "fe4594126c414c88a7df0163e4c98a83",
            "c8c0ad19b0a5479280e40e07de780ef0",
            "66da7576ed844df49aec1df7fc7225fc",
            "f83d4630681e4b0483ed776e03124ca0",
            "f3e9d81314ad4ea8856e37640f4776f9",
            "0b24d8f19b1f4f6ea805b16426a17163",
            "418ed00adb3e4f22aa3b750dcabb2584",
            "35bef2a85bf743ab88719ad7f2ba83bf",
            "48b082e9466f462386698f38d7eddebe",
            "fb17d94e2a33464dab999d3f254ed686",
            "da4eca9522b5455184105b743e78e979",
            "60c6e1d4200a4ca9b5b2d4eb223404d6",
            "cff83e5426af47248453f8e0faba6cf6",
            "bd2ff9a11eb74e30a9ac1142c3d11585",
            "61d328144b6e4e02aab246cf1a93566e",
            "66987db11d3e4014b0f27f97f0cfca65",
            "f0be7e59ff004faebdc224448ebe8b70",
            "a9513ec89a854091bff5e651807fd656"
          ]
        },
        "id": "9m521F6_h1PY",
        "outputId": "c044826e-81c8-46d6-8ad2-5fd397ba60ae"
      },
      "outputs": [
        {
          "output_type": "stream",
          "name": "stdout",
          "text": [
            "Downloading and preparing dataset 337.08 MiB (download: 337.08 MiB, generated: Unknown size, total: 337.08 MiB) to /root/tensorflow_datasets/malaria/1.0.0...\n"
          ]
        },
        {
          "output_type": "display_data",
          "data": {
            "text/plain": [
              "Dl Completed...: 0 url [00:00, ? url/s]"
            ],
            "application/vnd.jupyter.widget-view+json": {
              "version_major": 2,
              "version_minor": 0,
              "model_id": "90961743f78447418c7d4e733457848f"
            }
          },
          "metadata": {}
        },
        {
          "output_type": "display_data",
          "data": {
            "text/plain": [
              "Dl Size...: 0 MiB [00:00, ? MiB/s]"
            ],
            "application/vnd.jupyter.widget-view+json": {
              "version_major": 2,
              "version_minor": 0,
              "model_id": "ff07957a8cba46baab22bb998eaab1a5"
            }
          },
          "metadata": {}
        },
        {
          "output_type": "display_data",
          "data": {
            "text/plain": [
              "Extraction completed...: 0 file [00:00, ? file/s]"
            ],
            "application/vnd.jupyter.widget-view+json": {
              "version_major": 2,
              "version_minor": 0,
              "model_id": "d0bbe7d6641e40f785411f7f4a49364c"
            }
          },
          "metadata": {}
        },
        {
          "output_type": "stream",
          "name": "stderr",
          "text": [
            "IOPub message rate exceeded.\n",
            "The notebook server will temporarily stop sending output\n",
            "to the client in order to avoid crashing it.\n",
            "To change this limit, set the config variable\n",
            "`--NotebookApp.iopub_msg_rate_limit`.\n",
            "\n",
            "Current values:\n",
            "NotebookApp.iopub_msg_rate_limit=1000.0 (msgs/sec)\n",
            "NotebookApp.rate_limit_window=3.0 (secs)\n",
            "\n",
            "IOPub message rate exceeded.\n",
            "The notebook server will temporarily stop sending output\n",
            "to the client in order to avoid crashing it.\n",
            "To change this limit, set the config variable\n",
            "`--NotebookApp.iopub_msg_rate_limit`.\n",
            "\n",
            "Current values:\n",
            "NotebookApp.iopub_msg_rate_limit=1000.0 (msgs/sec)\n",
            "NotebookApp.rate_limit_window=3.0 (secs)\n",
            "\n",
            "IOPub message rate exceeded.\n",
            "The notebook server will temporarily stop sending output\n",
            "to the client in order to avoid crashing it.\n",
            "To change this limit, set the config variable\n",
            "`--NotebookApp.iopub_msg_rate_limit`.\n",
            "\n",
            "Current values:\n",
            "NotebookApp.iopub_msg_rate_limit=1000.0 (msgs/sec)\n",
            "NotebookApp.rate_limit_window=3.0 (secs)\n",
            "\n",
            "IOPub message rate exceeded.\n",
            "The notebook server will temporarily stop sending output\n",
            "to the client in order to avoid crashing it.\n",
            "To change this limit, set the config variable\n",
            "`--NotebookApp.iopub_msg_rate_limit`.\n",
            "\n",
            "Current values:\n",
            "NotebookApp.iopub_msg_rate_limit=1000.0 (msgs/sec)\n",
            "NotebookApp.rate_limit_window=3.0 (secs)\n",
            "\n",
            "IOPub message rate exceeded.\n",
            "The notebook server will temporarily stop sending output\n",
            "to the client in order to avoid crashing it.\n",
            "To change this limit, set the config variable\n",
            "`--NotebookApp.iopub_msg_rate_limit`.\n",
            "\n",
            "Current values:\n",
            "NotebookApp.iopub_msg_rate_limit=1000.0 (msgs/sec)\n",
            "NotebookApp.rate_limit_window=3.0 (secs)\n",
            "\n",
            "IOPub message rate exceeded.\n",
            "The notebook server will temporarily stop sending output\n",
            "to the client in order to avoid crashing it.\n",
            "To change this limit, set the config variable\n",
            "`--NotebookApp.iopub_msg_rate_limit`.\n",
            "\n",
            "Current values:\n",
            "NotebookApp.iopub_msg_rate_limit=1000.0 (msgs/sec)\n",
            "NotebookApp.rate_limit_window=3.0 (secs)\n",
            "\n",
            "IOPub message rate exceeded.\n",
            "The notebook server will temporarily stop sending output\n",
            "to the client in order to avoid crashing it.\n",
            "To change this limit, set the config variable\n",
            "`--NotebookApp.iopub_msg_rate_limit`.\n",
            "\n",
            "Current values:\n",
            "NotebookApp.iopub_msg_rate_limit=1000.0 (msgs/sec)\n",
            "NotebookApp.rate_limit_window=3.0 (secs)\n",
            "\n"
          ]
        },
        {
          "output_type": "display_data",
          "data": {
            "text/plain": [
              "Generating splits...:   0%|          | 0/1 [00:00<?, ? splits/s]"
            ],
            "application/vnd.jupyter.widget-view+json": {
              "version_major": 2,
              "version_minor": 0,
              "model_id": "bc81c47fe85a4d3188d574a17d07f9fc"
            }
          },
          "metadata": {}
        },
        {
          "output_type": "display_data",
          "data": {
            "text/plain": [
              "Generating train examples...:   0%|          | 0/27558 [00:00<?, ? examples/s]"
            ],
            "application/vnd.jupyter.widget-view+json": {
              "version_major": 2,
              "version_minor": 0,
              "model_id": "1a592baa768d4c8f817d1e4ec975dc22"
            }
          },
          "metadata": {}
        },
        {
          "output_type": "display_data",
          "data": {
            "text/plain": [
              "Shuffling /root/tensorflow_datasets/malaria/1.0.0.incompleteC6YAZ3/malaria-train.tfrecord*...:   0%|          …"
            ],
            "application/vnd.jupyter.widget-view+json": {
              "version_major": 2,
              "version_minor": 0,
              "model_id": "35bef2a85bf743ab88719ad7f2ba83bf"
            }
          },
          "metadata": {}
        },
        {
          "output_type": "stream",
          "name": "stdout",
          "text": [
            "Dataset malaria downloaded and prepared to /root/tensorflow_datasets/malaria/1.0.0. Subsequent calls will reuse this data.\n"
          ]
        }
      ],
      "source": [
        "dataset, dataset_info = tfds.load('malaria', with_info=True, as_supervised=True, shuffle_files=True, split=['train'])"
      ]
    },
    {
      "cell_type": "code",
      "execution_count": null,
      "metadata": {
        "id": "1CV0ewgertxF"
      },
      "outputs": [],
      "source": [
        "def splits(dataset, TRAIN_RATIO, VAL_RATIO, TEST_RATIO):\n",
        "  DATASET_SIZE = len(dataset)\n",
        "  train_dataset = dataset.take(int(TRAIN_RATIO*DATASET_SIZE))\n",
        "\n",
        "  val_test_dataset = dataset.skip(int(TRAIN_RATIO*DATASET_SIZE))\n",
        "  val_dataset = val_test_dataset.take(int(VAL_RATIO*DATASET_SIZE))\n",
        "\n",
        "  test_dataset = val_test_dataset.skip(int(VAL_RATIO*DATASET_SIZE))\n",
        "  return train_dataset, val_dataset, test_dataset"
      ]
    },
    {
      "cell_type": "code",
      "execution_count": null,
      "metadata": {
        "id": "8GY9KsKZklrS"
      },
      "outputs": [],
      "source": [
        "TRAIN_RATIO = 0.8\n",
        "VAL_RATIO = 0.1\n",
        "TEST_RATIO = 0.1\n",
        "\n",
        "train_dataset, val_dataset, test_dataset = splits(dataset[0], TRAIN_RATIO, VAL_RATIO, TEST_RATIO)"
      ]
    },
    {
      "cell_type": "markdown",
      "metadata": {
        "id": "nYk1tQnHu3Hs"
      },
      "source": [
        "# Dataset Visualization"
      ]
    },
    {
      "cell_type": "code",
      "execution_count": null,
      "metadata": {
        "colab": {
          "base_uri": "https://localhost:8080/",
          "height": 452
        },
        "id": "Pn6RVco-jHa3",
        "outputId": "f84ff78f-0bb1-42b4-c637-42d47201b243"
      },
      "outputs": [
        {
          "output_type": "display_data",
          "data": {
            "text/plain": [
              "<Figure size 640x480 with 16 Axes>"
            ],
            "image/png": "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\n"
          },
          "metadata": {}
        }
      ],
      "source": [
        "for i, (image, label) in enumerate(train_dataset.take(16)):\n",
        "  ax = plt.subplot(4, 4, i + 1)\n",
        "  plt.imshow(image)\n",
        "  plt.title(dataset_info.features['label'].int2str(label))"
      ]
    },
    {
      "cell_type": "markdown",
      "metadata": {
        "id": "uzL6gd8bv3UF"
      },
      "source": [
        "# Data Preprocessing"
      ]
    },
    {
      "cell_type": "code",
      "execution_count": null,
      "metadata": {
        "id": "OWNbPfdvC5yF"
      },
      "outputs": [],
      "source": [
        "IM_SIZE = 224\n",
        "def resize_rescale(image, label):\n",
        "  return tf.image.resize(image, (IM_SIZE, IM_SIZE))/255.0, label"
      ]
    },
    {
      "cell_type": "code",
      "execution_count": null,
      "metadata": {
        "id": "EVsjLD0YvNtU"
      },
      "outputs": [],
      "source": [
        "train_dataset = train_dataset.map(resize_rescale)\n",
        "val_dataset = val_dataset.map(resize_rescale)\n",
        "test_dataset = test_dataset.map(resize_rescale)"
      ]
    },
    {
      "cell_type": "code",
      "execution_count": null,
      "metadata": {
        "colab": {
          "base_uri": "https://localhost:8080/"
        },
        "id": "Xzf17b-0DSfk",
        "outputId": "9d332e67-d7d7-4955-e989-b9a0c373cdf5"
      },
      "outputs": [
        {
          "output_type": "stream",
          "name": "stdout",
          "text": [
            "tf.Tensor(\n",
            "[[[0. 0. 0.]\n",
            "  [0. 0. 0.]\n",
            "  [0. 0. 0.]\n",
            "  ...\n",
            "  [0. 0. 0.]\n",
            "  [0. 0. 0.]\n",
            "  [0. 0. 0.]]\n",
            "\n",
            " [[0. 0. 0.]\n",
            "  [0. 0. 0.]\n",
            "  [0. 0. 0.]\n",
            "  ...\n",
            "  [0. 0. 0.]\n",
            "  [0. 0. 0.]\n",
            "  [0. 0. 0.]]\n",
            "\n",
            " [[0. 0. 0.]\n",
            "  [0. 0. 0.]\n",
            "  [0. 0. 0.]\n",
            "  ...\n",
            "  [0. 0. 0.]\n",
            "  [0. 0. 0.]\n",
            "  [0. 0. 0.]]\n",
            "\n",
            " ...\n",
            "\n",
            " [[0. 0. 0.]\n",
            "  [0. 0. 0.]\n",
            "  [0. 0. 0.]\n",
            "  ...\n",
            "  [0. 0. 0.]\n",
            "  [0. 0. 0.]\n",
            "  [0. 0. 0.]]\n",
            "\n",
            " [[0. 0. 0.]\n",
            "  [0. 0. 0.]\n",
            "  [0. 0. 0.]\n",
            "  ...\n",
            "  [0. 0. 0.]\n",
            "  [0. 0. 0.]\n",
            "  [0. 0. 0.]]\n",
            "\n",
            " [[0. 0. 0.]\n",
            "  [0. 0. 0.]\n",
            "  [0. 0. 0.]\n",
            "  ...\n",
            "  [0. 0. 0.]\n",
            "  [0. 0. 0.]\n",
            "  [0. 0. 0.]]], shape=(224, 224, 3), dtype=float32) tf.Tensor(1, shape=(), dtype=int64)\n"
          ]
        }
      ],
      "source": [
        "for image, label in train_dataset.take(1):\n",
        "  print(image, label)"
      ]
    },
    {
      "cell_type": "code",
      "execution_count": null,
      "metadata": {
        "id": "cQv7CxJ5DbsM"
      },
      "outputs": [],
      "source": [
        "BATCH_SIZE = 32\n",
        "train_dataset = train_dataset.shuffle(buffer_size=8, reshuffle_each_iteration=True).batch(BATCH_SIZE).prefetch(tf.data.AUTOTUNE)"
      ]
    },
    {
      "cell_type": "code",
      "execution_count": null,
      "metadata": {
        "id": "jf2d5rdDbFD5"
      },
      "outputs": [],
      "source": [
        "val_dataset = val_dataset.shuffle(buffer_size=8, reshuffle_each_iteration=True).batch(BATCH_SIZE).prefetch(tf.data.AUTOTUNE)"
      ]
    },
    {
      "cell_type": "code",
      "execution_count": null,
      "metadata": {
        "colab": {
          "base_uri": "https://localhost:8080/"
        },
        "id": "xAyv1JNZk0se",
        "outputId": "7bafd470-57b4-419a-9651-023079899380"
      },
      "outputs": [
        {
          "output_type": "execute_result",
          "data": {
            "text/plain": [
              "<_PrefetchDataset element_spec=(TensorSpec(shape=(None, 224, 224, 3), dtype=tf.float32, name=None), TensorSpec(shape=(None,), dtype=tf.int64, name=None))>"
            ]
          },
          "metadata": {},
          "execution_count": 11
        }
      ],
      "source": [
        "val_dataset"
      ]
    },
    {
      "cell_type": "code",
      "execution_count": null,
      "metadata": {
        "colab": {
          "base_uri": "https://localhost:8080/"
        },
        "id": "LY5kOavZk2hC",
        "outputId": "84317fea-8845-4e85-8f61-341545203d12"
      },
      "outputs": [
        {
          "output_type": "execute_result",
          "data": {
            "text/plain": [
              "<_PrefetchDataset element_spec=(TensorSpec(shape=(None, 224, 224, 3), dtype=tf.float32, name=None), TensorSpec(shape=(None,), dtype=tf.int64, name=None))>"
            ]
          },
          "metadata": {},
          "execution_count": 12
        }
      ],
      "source": [
        "train_dataset"
      ]
    },
    {
      "cell_type": "code",
      "execution_count": null,
      "metadata": {
        "colab": {
          "base_uri": "https://localhost:8080/"
        },
        "id": "sjxctwZSEvwL",
        "outputId": "971a8c10-a764-46df-afd3-9857b81f078c"
      },
      "outputs": [
        {
          "output_type": "stream",
          "name": "stdout",
          "text": [
            "Model: \"sequential\"\n",
            "_________________________________________________________________\n",
            " Layer (type)                Output Shape              Param #   \n",
            "=================================================================\n",
            " conv2d (Conv2D)             (None, 222, 222, 6)       168       \n",
            "                                                                 \n",
            " batch_normalization (Batch  (None, 222, 222, 6)       24        \n",
            " Normalization)                                                  \n",
            "                                                                 \n",
            " max_pooling2d (MaxPooling2  (None, 111, 111, 6)       0         \n",
            " D)                                                              \n",
            "                                                                 \n",
            " conv2d_1 (Conv2D)           (None, 109, 109, 16)      880       \n",
            "                                                                 \n",
            " batch_normalization_1 (Bat  (None, 109, 109, 16)      64        \n",
            " chNormalization)                                                \n",
            "                                                                 \n",
            " max_pooling2d_1 (MaxPoolin  (None, 54, 54, 16)        0         \n",
            " g2D)                                                            \n",
            "                                                                 \n",
            " flatten (Flatten)           (None, 46656)             0         \n",
            "                                                                 \n",
            " dense (Dense)               (None, 100)               4665700   \n",
            "                                                                 \n",
            " batch_normalization_2 (Bat  (None, 100)               400       \n",
            " chNormalization)                                                \n",
            "                                                                 \n",
            " dense_1 (Dense)             (None, 10)                1010      \n",
            "                                                                 \n",
            " batch_normalization_3 (Bat  (None, 10)                40        \n",
            " chNormalization)                                                \n",
            "                                                                 \n",
            " dense_2 (Dense)             (None, 1)                 11        \n",
            "                                                                 \n",
            "=================================================================\n",
            "Total params: 4668297 (17.81 MB)\n",
            "Trainable params: 4668033 (17.81 MB)\n",
            "Non-trainable params: 264 (1.03 KB)\n",
            "_________________________________________________________________\n"
          ]
        }
      ],
      "source": [
        "lenet_model = tf.keras.Sequential([InputLayer(input_shape=(IM_SIZE, IM_SIZE, 3)),\n",
        "\n",
        "                             Conv2D(filters=6, kernel_size=3, strides=1, padding='valid', activation='relu'),\n",
        "                             BatchNormalization(),\n",
        "                             MaxPool2D(pool_size=2, strides=2),\n",
        "\n",
        "                             Conv2D(filters=16, kernel_size=3, strides=1, padding='valid', activation='relu'),\n",
        "                             BatchNormalization(),\n",
        "                             MaxPool2D(pool_size=2, strides=2),\n",
        "\n",
        "                             Flatten(),\n",
        "\n",
        "                             Dense(100, activation='relu'),\n",
        "                             BatchNormalization(),\n",
        "                             Dense(10, activation='relu'),\n",
        "                             BatchNormalization(),\n",
        "                             Dense(1, activation='sigmoid'),\n",
        "                             ])\n",
        "lenet_model.summary()\n",
        "\n"
      ]
    },
    {
      "cell_type": "code",
      "execution_count": null,
      "metadata": {
        "id": "okSFvoinVmPy"
      },
      "outputs": [],
      "source": [
        "# y_true = [0, 1, 0, 0]\n",
        "# y_pred = [0.6, 0.00051, 0.94, 0.00001]\n",
        "# bce = tf.keras.losses.BinaryCrossentropy()\n",
        "# bce(y_true,y_pred)"
      ]
    },
    {
      "cell_type": "code",
      "execution_count": null,
      "metadata": {
        "id": "AQs15ZkAXi5V"
      },
      "outputs": [],
      "source": [
        "lenet_model.compile(optimizer = Adam(learning_rate = 0.01),\n",
        "              loss = BinaryCrossentropy(),\n",
        "              metrics = 'accuracy'\n",
        "              )"
      ]
    },
    {
      "cell_type": "code",
      "execution_count": null,
      "metadata": {
        "id": "AOpvJwSnY3xB",
        "colab": {
          "base_uri": "https://localhost:8080/"
        },
        "outputId": "128f26d6-cb53-45f2-cd20-162436535c1b"
      },
      "outputs": [
        {
          "output_type": "stream",
          "name": "stdout",
          "text": [
            "Epoch 1/20\n",
            "689/689 [==============================] - 129s 184ms/step - loss: 0.2942 - accuracy: 0.8819 - val_loss: 0.2121 - val_accuracy: 0.9408\n",
            "Epoch 2/20\n",
            "689/689 [==============================] - 125s 181ms/step - loss: 0.1923 - accuracy: 0.9347 - val_loss: 0.2158 - val_accuracy: 0.9437\n",
            "Epoch 3/20\n",
            "689/689 [==============================] - 125s 181ms/step - loss: 0.1805 - accuracy: 0.9410 - val_loss: 1.2656 - val_accuracy: 0.5390\n",
            "Epoch 4/20\n",
            "689/689 [==============================] - 125s 181ms/step - loss: 0.1678 - accuracy: 0.9450 - val_loss: 0.5020 - val_accuracy: 0.6519\n",
            "Epoch 5/20\n",
            "689/689 [==============================] - 123s 179ms/step - loss: 0.1619 - accuracy: 0.9455 - val_loss: 0.2268 - val_accuracy: 0.9267\n",
            "Epoch 6/20\n",
            "689/689 [==============================] - 123s 178ms/step - loss: 0.1518 - accuracy: 0.9507 - val_loss: 0.2147 - val_accuracy: 0.9318\n",
            "Epoch 7/20\n",
            "689/689 [==============================] - 121s 176ms/step - loss: 0.1463 - accuracy: 0.9514 - val_loss: 0.2440 - val_accuracy: 0.9238\n",
            "Epoch 8/20\n",
            "689/689 [==============================] - 120s 175ms/step - loss: 0.1374 - accuracy: 0.9555 - val_loss: 0.3010 - val_accuracy: 0.9151\n",
            "Epoch 9/20\n",
            "689/689 [==============================] - 121s 175ms/step - loss: 0.1327 - accuracy: 0.9566 - val_loss: 0.1488 - val_accuracy: 0.9532\n",
            "Epoch 10/20\n",
            "689/689 [==============================] - 121s 176ms/step - loss: 0.1291 - accuracy: 0.9577 - val_loss: 0.3033 - val_accuracy: 0.9172\n",
            "Epoch 11/20\n",
            "689/689 [==============================] - 122s 178ms/step - loss: 0.1366 - accuracy: 0.9544 - val_loss: 0.3022 - val_accuracy: 0.9191\n",
            "Epoch 12/20\n",
            "689/689 [==============================] - 120s 174ms/step - loss: 0.1206 - accuracy: 0.9599 - val_loss: 0.3584 - val_accuracy: 0.8363\n",
            "Epoch 13/20\n",
            "689/689 [==============================] - 121s 176ms/step - loss: 0.1049 - accuracy: 0.9660 - val_loss: 0.1748 - val_accuracy: 0.9463\n",
            "Epoch 14/20\n",
            "689/689 [==============================] - 121s 175ms/step - loss: 0.1040 - accuracy: 0.9636 - val_loss: 0.2428 - val_accuracy: 0.9492\n",
            "Epoch 15/20\n",
            "689/689 [==============================] - 120s 174ms/step - loss: 0.0989 - accuracy: 0.9659 - val_loss: 0.3023 - val_accuracy: 0.8824\n",
            "Epoch 16/20\n",
            "689/689 [==============================] - 120s 174ms/step - loss: 0.0911 - accuracy: 0.9695 - val_loss: 0.2050 - val_accuracy: 0.9368\n",
            "Epoch 17/20\n",
            "689/689 [==============================] - 121s 176ms/step - loss: 0.0873 - accuracy: 0.9706 - val_loss: 0.1854 - val_accuracy: 0.9445\n",
            "Epoch 18/20\n",
            "689/689 [==============================] - 121s 176ms/step - loss: 0.0860 - accuracy: 0.9697 - val_loss: 0.3696 - val_accuracy: 0.9481\n",
            "Epoch 19/20\n",
            "689/689 [==============================] - 122s 177ms/step - loss: 0.0808 - accuracy: 0.9718 - val_loss: 0.3168 - val_accuracy: 0.9332\n",
            "Epoch 20/20\n",
            "689/689 [==============================] - 122s 176ms/step - loss: 0.0731 - accuracy: 0.9757 - val_loss: 0.3442 - val_accuracy: 0.9089\n"
          ]
        }
      ],
      "source": [
        "history = lenet_model.fit(train_dataset, validation_data=val_dataset, epochs = 20, verbose=1)"
      ]
    },
    {
      "cell_type": "code",
      "execution_count": null,
      "metadata": {
        "id": "eylD8sadZDDE",
        "colab": {
          "base_uri": "https://localhost:8080/",
          "height": 472
        },
        "outputId": "f2162839-71e0-49f0-ee88-5e3f2b5b3cb0"
      },
      "outputs": [
        {
          "output_type": "display_data",
          "data": {
            "text/plain": [
              "<Figure size 640x480 with 1 Axes>"
            ],
            "image/png": "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\n"
          },
          "metadata": {}
        }
      ],
      "source": [
        "plt.plot(history.history['loss'])\n",
        "plt.plot(history.history['val_loss'])\n",
        "plt.title('Model loss')\n",
        "plt.ylabel('loss')\n",
        "plt.xlabel('Epoch')\n",
        "plt.legend(['train_loss', 'val_loss'])\n",
        "plt.show()"
      ]
    },
    {
      "cell_type": "code",
      "execution_count": null,
      "metadata": {
        "id": "CJdYPUMTfLWd",
        "colab": {
          "base_uri": "https://localhost:8080/",
          "height": 472
        },
        "outputId": "48c785bd-2efe-49fc-f31b-90611490f02e"
      },
      "outputs": [
        {
          "output_type": "display_data",
          "data": {
            "text/plain": [
              "<Figure size 640x480 with 1 Axes>"
            ],
            "image/png": "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\n"
          },
          "metadata": {}
        }
      ],
      "source": [
        "plt.plot(history.history['accuracy'])\n",
        "plt.plot(history.history['val_accuracy'])\n",
        "plt.title('Model Accuracy')\n",
        "plt.ylabel('Accuracy')\n",
        "plt.xlabel('Epoch')\n",
        "plt.legend(['train_accuracy', 'val_accuracy'])\n",
        "plt.show()"
      ]
    },
    {
      "cell_type": "markdown",
      "metadata": {
        "id": "PfguHyuZp_Hu"
      },
      "source": [
        "# Model Evaluation and Testing"
      ]
    },
    {
      "cell_type": "code",
      "execution_count": null,
      "metadata": {
        "id": "5H7F3Oxixf0E"
      },
      "outputs": [],
      "source": [
        "test_dataset = test_dataset.batch(1)"
      ]
    },
    {
      "cell_type": "code",
      "execution_count": null,
      "metadata": {
        "id": "dmtW7k8rxojm",
        "colab": {
          "base_uri": "https://localhost:8080/"
        },
        "outputId": "a089afa6-64ef-46ec-b93a-434d70017e10"
      },
      "outputs": [
        {
          "output_type": "execute_result",
          "data": {
            "text/plain": [
              "<_BatchDataset element_spec=(TensorSpec(shape=(None, 224, 224, 3), dtype=tf.float32, name=None), TensorSpec(shape=(None,), dtype=tf.int64, name=None))>"
            ]
          },
          "metadata": {},
          "execution_count": 20
        }
      ],
      "source": [
        "test_dataset"
      ]
    },
    {
      "cell_type": "code",
      "execution_count": null,
      "metadata": {
        "id": "AZvEY22lp-6n",
        "colab": {
          "base_uri": "https://localhost:8080/"
        },
        "outputId": "8eb5891a-0cc9-4509-ad52-36bdbf7355f8"
      },
      "outputs": [
        {
          "output_type": "stream",
          "name": "stdout",
          "text": [
            "2757/2757 [==============================] - 18s 6ms/step - loss: 0.2835 - accuracy: 0.9064\n"
          ]
        },
        {
          "output_type": "execute_result",
          "data": {
            "text/plain": [
              "[0.2835368514060974, 0.9064199924468994]"
            ]
          },
          "metadata": {},
          "execution_count": 21
        }
      ],
      "source": [
        "lenet_model.evaluate(test_dataset)"
      ]
    },
    {
      "cell_type": "code",
      "execution_count": null,
      "metadata": {
        "id": "jare7Vbr0qKX"
      },
      "outputs": [],
      "source": [
        "def parasite_or_not(x):\n",
        "  if(x<0.5):\n",
        "    return str('P')\n",
        "  else:\n",
        "    return str('U')"
      ]
    },
    {
      "cell_type": "code",
      "execution_count": null,
      "metadata": {
        "id": "eKbK4qqVqFn8",
        "colab": {
          "base_uri": "https://localhost:8080/",
          "height": 52
        },
        "outputId": "8ea14286-9030-4fe4-99e0-039ab7fb067c"
      },
      "outputs": [
        {
          "output_type": "stream",
          "name": "stdout",
          "text": [
            "1/1 [==============================] - 1s 654ms/step\n"
          ]
        },
        {
          "output_type": "execute_result",
          "data": {
            "text/plain": [
              "'U'"
            ],
            "application/vnd.google.colaboratory.intrinsic+json": {
              "type": "string"
            }
          },
          "metadata": {},
          "execution_count": 23
        }
      ],
      "source": [
        "parasite_or_not(lenet_model.predict(test_dataset.take(1))[0][0])"
      ]
    },
    {
      "cell_type": "code",
      "execution_count": null,
      "metadata": {
        "id": "U9FlK2ig06xI",
        "colab": {
          "base_uri": "https://localhost:8080/",
          "height": 608
        },
        "outputId": "c5f22458-201d-4dcb-9bdb-633a236ac514"
      },
      "outputs": [
        {
          "output_type": "stream",
          "name": "stdout",
          "text": [
            "1/1 [==============================] - 0s 123ms/step\n",
            "1/1 [==============================] - 0s 28ms/step\n",
            "1/1 [==============================] - 0s 28ms/step\n",
            "1/1 [==============================] - 0s 27ms/step\n",
            "1/1 [==============================] - 0s 27ms/step\n",
            "1/1 [==============================] - 0s 27ms/step\n",
            "1/1 [==============================] - 0s 27ms/step\n",
            "1/1 [==============================] - 0s 28ms/step\n",
            "1/1 [==============================] - 0s 29ms/step\n"
          ]
        },
        {
          "output_type": "display_data",
          "data": {
            "text/plain": [
              "<Figure size 640x480 with 9 Axes>"
            ],
            "image/png": "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\n"
          },
          "metadata": {}
        }
      ],
      "source": [
        "for i, (image,label) in enumerate(test_dataset.take(9)):\n",
        "  ax = plt.subplot(3, 3, i+1)\n",
        "  plt.imshow(image[0])\n",
        "  plt.title(str(parasite_or_not(label.numpy()[0])) + \":\" + str(parasite_or_not(lenet_model.predict(image)[0][0])))"
      ]
    },
    {
      "cell_type": "code",
      "source": [],
      "metadata": {
        "id": "i6dU_k7fkXMg"
      },
      "execution_count": null,
      "outputs": []
    },
    {
      "cell_type": "markdown",
      "metadata": {
        "id": "h-fkhcH6_oRc"
      },
      "source": [
        "# Saving and loading in colab"
      ]
    },
    {
      "cell_type": "code",
      "execution_count": null,
      "metadata": {
        "id": "IubIOi_Q8-Rp"
      },
      "outputs": [],
      "source": [
        "from google.colab import drive\n",
        "from keras.models import load_model"
      ]
    },
    {
      "cell_type": "code",
      "execution_count": null,
      "metadata": {
        "id": "mnre4VJ-7mqW"
      },
      "outputs": [],
      "source": [
        "# drive.mount('/drive', force_remount=True)"
      ]
    },
    {
      "cell_type": "code",
      "execution_count": null,
      "metadata": {
        "id": "QOakvGs58027"
      },
      "outputs": [],
      "source": [
        "lenet_model.save('/drive/MyDrive/lenet_model.h5')"
      ]
    },
    {
      "cell_type": "code",
      "execution_count": null,
      "metadata": {
        "id": "Df-HBd4h9pFP",
        "colab": {
          "base_uri": "https://localhost:8080/"
        },
        "outputId": "9e673bf7-46c1-414b-c39a-aa697807aa6b"
      },
      "outputs": [
        {
          "output_type": "stream",
          "name": "stdout",
          "text": [
            "2757/2757 [==============================] - 18s 6ms/step - loss: 0.2860 - accuracy: 0.9071\n"
          ]
        },
        {
          "output_type": "execute_result",
          "data": {
            "text/plain": [
              "[0.28604811429977417, 0.9071454405784607]"
            ]
          },
          "metadata": {},
          "execution_count": 38
        }
      ],
      "source": [
        "loaded_model = load_model('/drive/MyDrive/lenet_model.h5')\n",
        "loaded_model.evaluate(test_dataset)"
      ]
    },
    {
      "cell_type": "code",
      "execution_count": null,
      "metadata": {
        "id": "RzIeIilc_64g"
      },
      "outputs": [],
      "source": []
    }
  ],
  "metadata": {
    "accelerator": "TPU",
    "colab": {
      "gpuType": "V28",
      "provenance": [],
      "mount_file_id": "1zh7EpqdFmDJW1ocI2cewGDFegkMWFDa3",
      "authorship_tag": "ABX9TyOyAAQCcKuapSX3PeZdV2Ot",
      "include_colab_link": true
    },
    "kernelspec": {
      "display_name": "Python 3",
      "name": "python3"
    },
    "language_info": {
      "name": "python"
    },
    "widgets": {
      "application/vnd.jupyter.widget-state+json": {
        "state": {}
        "90961743f78447418c7d4e733457848f": {
          "model_module": "@jupyter-widgets/controls",
          "model_name": "HBoxModel",
          "model_module_version": "1.5.0",
          "state": {
            "_dom_classes": [],
            "_model_module": "@jupyter-widgets/controls",
            "_model_module_version": "1.5.0",
            "_model_name": "HBoxModel",
            "_view_count": null,
            "_view_module": "@jupyter-widgets/controls",
            "_view_module_version": "1.5.0",
            "_view_name": "HBoxView",
            "box_style": "",
            "children": [
              "IPY_MODEL_b4ab2311bdb5479498197ace497737d9",
              "IPY_MODEL_a0a066755fc146da9acd183340cd2d6b",
              "IPY_MODEL_02e81e14553a4a5e9380545814431007"
            ],
            "layout": "IPY_MODEL_6490ace3b46e47f1a22dafc59cb23197"
          }
        },
        "b4ab2311bdb5479498197ace497737d9": {
          "model_module": "@jupyter-widgets/controls",
          "model_name": "HTMLModel",
          "model_module_version": "1.5.0",
          "state": {
            "_dom_classes": [],
            "_model_module": "@jupyter-widgets/controls",
            "_model_module_version": "1.5.0",
            "_model_name": "HTMLModel",
            "_view_count": null,
            "_view_module": "@jupyter-widgets/controls",
            "_view_module_version": "1.5.0",
            "_view_name": "HTMLView",
            "description": "",
            "description_tooltip": null,
            "layout": "IPY_MODEL_6e753c65f6b647a0b2d24801c9555355",
            "placeholder": "​",
            "style": "IPY_MODEL_9d4696bc72584ea187a903e6ecc69157",
            "value": "Dl Completed...: 100%"
          }
        },
        "a0a066755fc146da9acd183340cd2d6b": {
          "model_module": "@jupyter-widgets/controls",
          "model_name": "FloatProgressModel",
          "model_module_version": "1.5.0",
          "state": {
            "_dom_classes": [],
            "_model_module": "@jupyter-widgets/controls",
            "_model_module_version": "1.5.0",
            "_model_name": "FloatProgressModel",
            "_view_count": null,
            "_view_module": "@jupyter-widgets/controls",
            "_view_module_version": "1.5.0",
            "_view_name": "ProgressView",
            "bar_style": "success",
            "description": "",
            "description_tooltip": null,
            "layout": "IPY_MODEL_00845f52cff340c7ab854595d4cca436",
            "max": 1,
            "min": 0,
            "orientation": "horizontal",
            "style": "IPY_MODEL_5f93399ab8b84d73a5aa15f35d00bd1f",
            "value": 1
          }
        },
        "02e81e14553a4a5e9380545814431007": {
          "model_module": "@jupyter-widgets/controls",
          "model_name": "HTMLModel",
          "model_module_version": "1.5.0",
          "state": {
            "_dom_classes": [],
            "_model_module": "@jupyter-widgets/controls",
            "_model_module_version": "1.5.0",
            "_model_name": "HTMLModel",
            "_view_count": null,
            "_view_module": "@jupyter-widgets/controls",
            "_view_module_version": "1.5.0",
            "_view_name": "HTMLView",
            "description": "",
            "description_tooltip": null,
            "layout": "IPY_MODEL_b60de959e99146d486a7cc9d0c4789c2",
            "placeholder": "​",
            "style": "IPY_MODEL_c2f0bea461b74853a9b5aa1f8059d24e",
            "value": " 1/1 [00:39&lt;00:00,  3.10s/ url]"
          }
        },
        "6490ace3b46e47f1a22dafc59cb23197": {
          "model_module": "@jupyter-widgets/base",
          "model_name": "LayoutModel",
          "model_module_version": "1.2.0",
          "state": {
            "_model_module": "@jupyter-widgets/base",
            "_model_module_version": "1.2.0",
            "_model_name": "LayoutModel",
            "_view_count": null,
            "_view_module": "@jupyter-widgets/base",
            "_view_module_version": "1.2.0",
            "_view_name": "LayoutView",
            "align_content": null,
            "align_items": null,
            "align_self": null,
            "border": null,
            "bottom": null,
            "display": null,
            "flex": null,
            "flex_flow": null,
            "grid_area": null,
            "grid_auto_columns": null,
            "grid_auto_flow": null,
            "grid_auto_rows": null,
            "grid_column": null,
            "grid_gap": null,
            "grid_row": null,
            "grid_template_areas": null,
            "grid_template_columns": null,
            "grid_template_rows": null,
            "height": null,
            "justify_content": null,
            "justify_items": null,
            "left": null,
            "margin": null,
            "max_height": null,
            "max_width": null,
            "min_height": null,
            "min_width": null,
            "object_fit": null,
            "object_position": null,
            "order": null,
            "overflow": null,
            "overflow_x": null,
            "overflow_y": null,
            "padding": null,
            "right": null,
            "top": null,
            "visibility": null,
            "width": null
          }
        },
        "6e753c65f6b647a0b2d24801c9555355": {
          "model_module": "@jupyter-widgets/base",
          "model_name": "LayoutModel",
          "model_module_version": "1.2.0",
          "state": {
            "_model_module": "@jupyter-widgets/base",
            "_model_module_version": "1.2.0",
            "_model_name": "LayoutModel",
            "_view_count": null,
            "_view_module": "@jupyter-widgets/base",
            "_view_module_version": "1.2.0",
            "_view_name": "LayoutView",
            "align_content": null,
            "align_items": null,
            "align_self": null,
            "border": null,
            "bottom": null,
            "display": null,
            "flex": null,
            "flex_flow": null,
            "grid_area": null,
            "grid_auto_columns": null,
            "grid_auto_flow": null,
            "grid_auto_rows": null,
            "grid_column": null,
            "grid_gap": null,
            "grid_row": null,
            "grid_template_areas": null,
            "grid_template_columns": null,
            "grid_template_rows": null,
            "height": null,
            "justify_content": null,
            "justify_items": null,
            "left": null,
            "margin": null,
            "max_height": null,
            "max_width": null,
            "min_height": null,
            "min_width": null,
            "object_fit": null,
            "object_position": null,
            "order": null,
            "overflow": null,
            "overflow_x": null,
            "overflow_y": null,
            "padding": null,
            "right": null,
            "top": null,
            "visibility": null,
            "width": null
          }
        },
        "9d4696bc72584ea187a903e6ecc69157": {
          "model_module": "@jupyter-widgets/controls",
          "model_name": "DescriptionStyleModel",
          "model_module_version": "1.5.0",
          "state": {
            "_model_module": "@jupyter-widgets/controls",
            "_model_module_version": "1.5.0",
            "_model_name": "DescriptionStyleModel",
            "_view_count": null,
            "_view_module": "@jupyter-widgets/base",
            "_view_module_version": "1.2.0",
            "_view_name": "StyleView",
            "description_width": ""
          }
        },
        "00845f52cff340c7ab854595d4cca436": {
          "model_module": "@jupyter-widgets/base",
          "model_name": "LayoutModel",
          "model_module_version": "1.2.0",
          "state": {
            "_model_module": "@jupyter-widgets/base",
            "_model_module_version": "1.2.0",
            "_model_name": "LayoutModel",
            "_view_count": null,
            "_view_module": "@jupyter-widgets/base",
            "_view_module_version": "1.2.0",
            "_view_name": "LayoutView",
            "align_content": null,
            "align_items": null,
            "align_self": null,
            "border": null,
            "bottom": null,
            "display": null,
            "flex": null,
            "flex_flow": null,
            "grid_area": null,
            "grid_auto_columns": null,
            "grid_auto_flow": null,
            "grid_auto_rows": null,
            "grid_column": null,
            "grid_gap": null,
            "grid_row": null,
            "grid_template_areas": null,
            "grid_template_columns": null,
            "grid_template_rows": null,
            "height": null,
            "justify_content": null,
            "justify_items": null,
            "left": null,
            "margin": null,
            "max_height": null,
            "max_width": null,
            "min_height": null,
            "min_width": null,
            "object_fit": null,
            "object_position": null,
            "order": null,
            "overflow": null,
            "overflow_x": null,
            "overflow_y": null,
            "padding": null,
            "right": null,
            "top": null,
            "visibility": null,
            "width": "20px"
          }
        },
        "5f93399ab8b84d73a5aa15f35d00bd1f": {
          "model_module": "@jupyter-widgets/controls",
          "model_name": "ProgressStyleModel",
          "model_module_version": "1.5.0",
          "state": {
            "_model_module": "@jupyter-widgets/controls",
            "_model_module_version": "1.5.0",
            "_model_name": "ProgressStyleModel",
            "_view_count": null,
            "_view_module": "@jupyter-widgets/base",
            "_view_module_version": "1.2.0",
            "_view_name": "StyleView",
            "bar_color": null,
            "description_width": ""
          }
        },
        "b60de959e99146d486a7cc9d0c4789c2": {
          "model_module": "@jupyter-widgets/base",
          "model_name": "LayoutModel",
          "model_module_version": "1.2.0",
          "state": {
            "_model_module": "@jupyter-widgets/base",
            "_model_module_version": "1.2.0",
            "_model_name": "LayoutModel",
            "_view_count": null,
            "_view_module": "@jupyter-widgets/base",
            "_view_module_version": "1.2.0",
            "_view_name": "LayoutView",
            "align_content": null,
            "align_items": null,
            "align_self": null,
            "border": null,
            "bottom": null,
            "display": null,
            "flex": null,
            "flex_flow": null,
            "grid_area": null,
            "grid_auto_columns": null,
            "grid_auto_flow": null,
            "grid_auto_rows": null,
            "grid_column": null,
            "grid_gap": null,
            "grid_row": null,
            "grid_template_areas": null,
            "grid_template_columns": null,
            "grid_template_rows": null,
            "height": null,
            "justify_content": null,
            "justify_items": null,
            "left": null,
            "margin": null,
            "max_height": null,
            "max_width": null,
            "min_height": null,
            "min_width": null,
            "object_fit": null,
            "object_position": null,
            "order": null,
            "overflow": null,
            "overflow_x": null,
            "overflow_y": null,
            "padding": null,
            "right": null,
            "top": null,
            "visibility": null,
            "width": null
          }
        },
        "c2f0bea461b74853a9b5aa1f8059d24e": {
          "model_module": "@jupyter-widgets/controls",
          "model_name": "DescriptionStyleModel",
          "model_module_version": "1.5.0",
          "state": {
            "_model_module": "@jupyter-widgets/controls",
            "_model_module_version": "1.5.0",
            "_model_name": "DescriptionStyleModel",
            "_view_count": null,
            "_view_module": "@jupyter-widgets/base",
            "_view_module_version": "1.2.0",
            "_view_name": "StyleView",
            "description_width": ""
          }
        },
        "ff07957a8cba46baab22bb998eaab1a5": {
          "model_module": "@jupyter-widgets/controls",
          "model_name": "HBoxModel",
          "model_module_version": "1.5.0",
          "state": {
            "_dom_classes": [],
            "_model_module": "@jupyter-widgets/controls",
            "_model_module_version": "1.5.0",
            "_model_name": "HBoxModel",
            "_view_count": null,
            "_view_module": "@jupyter-widgets/controls",
            "_view_module_version": "1.5.0",
            "_view_name": "HBoxView",
            "box_style": "",
            "children": [
              "IPY_MODEL_1cef52106cd44d118048b86021fe76fa",
              "IPY_MODEL_97eea2b3f06d496abab93d933fd58d3f",
              "IPY_MODEL_368cdbac7a7a48c98675643cc2b148a0"
            ],
            "layout": "IPY_MODEL_18de86721bad4dc2ba67eebcf4ff6bc0"
          }
        },
        "1cef52106cd44d118048b86021fe76fa": {
          "model_module": "@jupyter-widgets/controls",
          "model_name": "HTMLModel",
          "model_module_version": "1.5.0",
          "state": {
            "_dom_classes": [],
            "_model_module": "@jupyter-widgets/controls",
            "_model_module_version": "1.5.0",
            "_model_name": "HTMLModel",
            "_view_count": null,
            "_view_module": "@jupyter-widgets/controls",
            "_view_module_version": "1.5.0",
            "_view_name": "HTMLView",
            "description": "",
            "description_tooltip": null,
            "layout": "IPY_MODEL_c8b7dfa6dacc4034ac31c344d73b53c3",
            "placeholder": "​",
            "style": "IPY_MODEL_4d6e067decd146b8be9dcd5d93c50c8c",
            "value": "Dl Size...: 100%"
          }
        },
        "97eea2b3f06d496abab93d933fd58d3f": {
          "model_module": "@jupyter-widgets/controls",
          "model_name": "FloatProgressModel",
          "model_module_version": "1.5.0",
          "state": {
            "_dom_classes": [],
            "_model_module": "@jupyter-widgets/controls",
            "_model_module_version": "1.5.0",
            "_model_name": "FloatProgressModel",
            "_view_count": null,
            "_view_module": "@jupyter-widgets/controls",
            "_view_module_version": "1.5.0",
            "_view_name": "ProgressView",
            "bar_style": "success",
            "description": "",
            "description_tooltip": null,
            "layout": "IPY_MODEL_5688fc16a73b45a8a1ed1f6131fdbabb",
            "max": 1,
            "min": 0,
            "orientation": "horizontal",
            "style": "IPY_MODEL_951daa3cc89a454c82af98b83a296aff",
            "value": 1
          }
        },
        "368cdbac7a7a48c98675643cc2b148a0": {
          "model_module": "@jupyter-widgets/controls",
          "model_name": "HTMLModel",
          "model_module_version": "1.5.0",
          "state": {
            "_dom_classes": [],
            "_model_module": "@jupyter-widgets/controls",
            "_model_module_version": "1.5.0",
            "_model_name": "HTMLModel",
            "_view_count": null,
            "_view_module": "@jupyter-widgets/controls",
            "_view_module_version": "1.5.0",
            "_view_name": "HTMLView",
            "description": "",
            "description_tooltip": null,
            "layout": "IPY_MODEL_7c59c1cded344ea8a1e703eecbed2852",
            "placeholder": "​",
            "style": "IPY_MODEL_a246bb5ac8224cf4a57c109c798fa44f",
            "value": " 337/337 [00:39&lt;00:00, 115.18 MiB/s]"
          }
        },
        "18de86721bad4dc2ba67eebcf4ff6bc0": {
          "model_module": "@jupyter-widgets/base",
          "model_name": "LayoutModel",
          "model_module_version": "1.2.0",
          "state": {
            "_model_module": "@jupyter-widgets/base",
            "_model_module_version": "1.2.0",
            "_model_name": "LayoutModel",
            "_view_count": null,
            "_view_module": "@jupyter-widgets/base",
            "_view_module_version": "1.2.0",
            "_view_name": "LayoutView",
            "align_content": null,
            "align_items": null,
            "align_self": null,
            "border": null,
            "bottom": null,
            "display": null,
            "flex": null,
            "flex_flow": null,
            "grid_area": null,
            "grid_auto_columns": null,
            "grid_auto_flow": null,
            "grid_auto_rows": null,
            "grid_column": null,
            "grid_gap": null,
            "grid_row": null,
            "grid_template_areas": null,
            "grid_template_columns": null,
            "grid_template_rows": null,
            "height": null,
            "justify_content": null,
            "justify_items": null,
            "left": null,
            "margin": null,
            "max_height": null,
            "max_width": null,
            "min_height": null,
            "min_width": null,
            "object_fit": null,
            "object_position": null,
            "order": null,
            "overflow": null,
            "overflow_x": null,
            "overflow_y": null,
            "padding": null,
            "right": null,
            "top": null,
            "visibility": null,
            "width": null
          }
        },
        "c8b7dfa6dacc4034ac31c344d73b53c3": {
          "model_module": "@jupyter-widgets/base",
          "model_name": "LayoutModel",
          "model_module_version": "1.2.0",
          "state": {
            "_model_module": "@jupyter-widgets/base",
            "_model_module_version": "1.2.0",
            "_model_name": "LayoutModel",
            "_view_count": null,
            "_view_module": "@jupyter-widgets/base",
            "_view_module_version": "1.2.0",
            "_view_name": "LayoutView",
            "align_content": null,
            "align_items": null,
            "align_self": null,
            "border": null,
            "bottom": null,
            "display": null,
            "flex": null,
            "flex_flow": null,
            "grid_area": null,
            "grid_auto_columns": null,
            "grid_auto_flow": null,
            "grid_auto_rows": null,
            "grid_column": null,
            "grid_gap": null,
            "grid_row": null,
            "grid_template_areas": null,
            "grid_template_columns": null,
            "grid_template_rows": null,
            "height": null,
            "justify_content": null,
            "justify_items": null,
            "left": null,
            "margin": null,
            "max_height": null,
            "max_width": null,
            "min_height": null,
            "min_width": null,
            "object_fit": null,
            "object_position": null,
            "order": null,
            "overflow": null,
            "overflow_x": null,
            "overflow_y": null,
            "padding": null,
            "right": null,
            "top": null,
            "visibility": null,
            "width": null
          }
        },
        "4d6e067decd146b8be9dcd5d93c50c8c": {
          "model_module": "@jupyter-widgets/controls",
          "model_name": "DescriptionStyleModel",
          "model_module_version": "1.5.0",
          "state": {
            "_model_module": "@jupyter-widgets/controls",
            "_model_module_version": "1.5.0",
            "_model_name": "DescriptionStyleModel",
            "_view_count": null,
            "_view_module": "@jupyter-widgets/base",
            "_view_module_version": "1.2.0",
            "_view_name": "StyleView",
            "description_width": ""
          }
        },
        "5688fc16a73b45a8a1ed1f6131fdbabb": {
          "model_module": "@jupyter-widgets/base",
          "model_name": "LayoutModel",
          "model_module_version": "1.2.0",
          "state": {
            "_model_module": "@jupyter-widgets/base",
            "_model_module_version": "1.2.0",
            "_model_name": "LayoutModel",
            "_view_count": null,
            "_view_module": "@jupyter-widgets/base",
            "_view_module_version": "1.2.0",
            "_view_name": "LayoutView",
            "align_content": null,
            "align_items": null,
            "align_self": null,
            "border": null,
            "bottom": null,
            "display": null,
            "flex": null,
            "flex_flow": null,
            "grid_area": null,
            "grid_auto_columns": null,
            "grid_auto_flow": null,
            "grid_auto_rows": null,
            "grid_column": null,
            "grid_gap": null,
            "grid_row": null,
            "grid_template_areas": null,
            "grid_template_columns": null,
            "grid_template_rows": null,
            "height": null,
            "justify_content": null,
            "justify_items": null,
            "left": null,
            "margin": null,
            "max_height": null,
            "max_width": null,
            "min_height": null,
            "min_width": null,
            "object_fit": null,
            "object_position": null,
            "order": null,
            "overflow": null,
            "overflow_x": null,
            "overflow_y": null,
            "padding": null,
            "right": null,
            "top": null,
            "visibility": null,
            "width": "20px"
          }
        },
        "951daa3cc89a454c82af98b83a296aff": {
          "model_module": "@jupyter-widgets/controls",
          "model_name": "ProgressStyleModel",
          "model_module_version": "1.5.0",
          "state": {
            "_model_module": "@jupyter-widgets/controls",
            "_model_module_version": "1.5.0",
            "_model_name": "ProgressStyleModel",
            "_view_count": null,
            "_view_module": "@jupyter-widgets/base",
            "_view_module_version": "1.2.0",
            "_view_name": "StyleView",
            "bar_color": null,
            "description_width": ""
          }
        },
        "7c59c1cded344ea8a1e703eecbed2852": {
          "model_module": "@jupyter-widgets/base",
          "model_name": "LayoutModel",
          "model_module_version": "1.2.0",
          "state": {
            "_model_module": "@jupyter-widgets/base",
            "_model_module_version": "1.2.0",
            "_model_name": "LayoutModel",
            "_view_count": null,
            "_view_module": "@jupyter-widgets/base",
            "_view_module_version": "1.2.0",
            "_view_name": "LayoutView",
            "align_content": null,
            "align_items": null,
            "align_self": null,
            "border": null,
            "bottom": null,
            "display": null,
            "flex": null,
            "flex_flow": null,
            "grid_area": null,
            "grid_auto_columns": null,
            "grid_auto_flow": null,
            "grid_auto_rows": null,
            "grid_column": null,
            "grid_gap": null,
            "grid_row": null,
            "grid_template_areas": null,
            "grid_template_columns": null,
            "grid_template_rows": null,
            "height": null,
            "justify_content": null,
            "justify_items": null,
            "left": null,
            "margin": null,
            "max_height": null,
            "max_width": null,
            "min_height": null,
            "min_width": null,
            "object_fit": null,
            "object_position": null,
            "order": null,
            "overflow": null,
            "overflow_x": null,
            "overflow_y": null,
            "padding": null,
            "right": null,
            "top": null,
            "visibility": null,
            "width": null
          }
        },
        "a246bb5ac8224cf4a57c109c798fa44f": {
          "model_module": "@jupyter-widgets/controls",
          "model_name": "DescriptionStyleModel",
          "model_module_version": "1.5.0",
          "state": {
            "_model_module": "@jupyter-widgets/controls",
            "_model_module_version": "1.5.0",
            "_model_name": "DescriptionStyleModel",
            "_view_count": null,
            "_view_module": "@jupyter-widgets/base",
            "_view_module_version": "1.2.0",
            "_view_name": "StyleView",
            "description_width": ""
          }
        },
        "d0bbe7d6641e40f785411f7f4a49364c": {
          "model_module": "@jupyter-widgets/controls",
          "model_name": "HBoxModel",
          "model_module_version": "1.5.0",
          "state": {
            "_dom_classes": [],
            "_model_module": "@jupyter-widgets/controls",
            "_model_module_version": "1.5.0",
            "_model_name": "HBoxModel",
            "_view_count": null,
            "_view_module": "@jupyter-widgets/controls",
            "_view_module_version": "1.5.0",
            "_view_name": "HBoxView",
            "box_style": "",
            "children": [
              "IPY_MODEL_47f93c1214e44b63ad13ebcfa78c9ffa",
              "IPY_MODEL_7c5747fa889a45f6aadfd153201e47d3",
              "IPY_MODEL_1c719ce68e8b4acbb72494f77fccc8af"
            ],
            "layout": "IPY_MODEL_89a130fdc76347e6ac060b08a11d4976"
          }
        },
        "47f93c1214e44b63ad13ebcfa78c9ffa": {
          "model_module": "@jupyter-widgets/controls",
          "model_name": "HTMLModel",
          "model_module_version": "1.5.0",
          "state": {
            "_dom_classes": [],
            "_model_module": "@jupyter-widgets/controls",
            "_model_module_version": "1.5.0",
            "_model_name": "HTMLModel",
            "_view_count": null,
            "_view_module": "@jupyter-widgets/controls",
            "_view_module_version": "1.5.0",
            "_view_name": "HTMLView",
            "description": "",
            "description_tooltip": null,
            "layout": "IPY_MODEL_f7b59b09b22341e48328bb6d00be2506",
            "placeholder": "​",
            "style": "IPY_MODEL_2a46102361824058b5235d39d9bc1fc2",
            "value": "Extraction completed...: 100%"
          }
        },
        "7c5747fa889a45f6aadfd153201e47d3": {
          "model_module": "@jupyter-widgets/controls",
          "model_name": "FloatProgressModel",
          "model_module_version": "1.5.0",
          "state": {
            "_dom_classes": [],
            "_model_module": "@jupyter-widgets/controls",
            "_model_module_version": "1.5.0",
            "_model_name": "FloatProgressModel",
            "_view_count": null,
            "_view_module": "@jupyter-widgets/controls",
            "_view_module_version": "1.5.0",
            "_view_name": "ProgressView",
            "bar_style": "success",
            "description": "",
            "description_tooltip": null,
            "layout": "IPY_MODEL_74e2442331564b1088067e01c5a7242a",
            "max": 1,
            "min": 0,
            "orientation": "horizontal",
            "style": "IPY_MODEL_073c3a25f7b8405f87240448950810ad",
            "value": 0
          }
        },
        "1c719ce68e8b4acbb72494f77fccc8af": {
          "model_module": "@jupyter-widgets/controls",
          "model_name": "HTMLModel",
          "model_module_version": "1.5.0",
          "state": {
            "_dom_classes": [],
            "_model_module": "@jupyter-widgets/controls",
            "_model_module_version": "1.5.0",
            "_model_name": "HTMLModel",
            "_view_count": null,
            "_view_module": "@jupyter-widgets/controls",
            "_view_module_version": "1.5.0",
            "_view_name": "HTMLView",
            "description": "",
            "description_tooltip": null,
            "layout": "IPY_MODEL_04a360897ebf4298b92d3b788d1d3a8e",
            "placeholder": "​",
            "style": "IPY_MODEL_39bdfc51c0124e3ba09f0fb8b86527ef",
            "value": " 27560/27560 [00:39&lt;00:00, 1907.98 file/s]"
          }
        },
        "89a130fdc76347e6ac060b08a11d4976": {
          "model_module": "@jupyter-widgets/base",
          "model_name": "LayoutModel",
          "model_module_version": "1.2.0",
          "state": {
            "_model_module": "@jupyter-widgets/base",
            "_model_module_version": "1.2.0",
            "_model_name": "LayoutModel",
            "_view_count": null,
            "_view_module": "@jupyter-widgets/base",
            "_view_module_version": "1.2.0",
            "_view_name": "LayoutView",
            "align_content": null,
            "align_items": null,
            "align_self": null,
            "border": null,
            "bottom": null,
            "display": null,
            "flex": null,
            "flex_flow": null,
            "grid_area": null,
            "grid_auto_columns": null,
            "grid_auto_flow": null,
            "grid_auto_rows": null,
            "grid_column": null,
            "grid_gap": null,
            "grid_row": null,
            "grid_template_areas": null,
            "grid_template_columns": null,
            "grid_template_rows": null,
            "height": null,
            "justify_content": null,
            "justify_items": null,
            "left": null,
            "margin": null,
            "max_height": null,
            "max_width": null,
            "min_height": null,
            "min_width": null,
            "object_fit": null,
            "object_position": null,
            "order": null,
            "overflow": null,
            "overflow_x": null,
            "overflow_y": null,
            "padding": null,
            "right": null,
            "top": null,
            "visibility": null,
            "width": null
          }
        },
        "f7b59b09b22341e48328bb6d00be2506": {
          "model_module": "@jupyter-widgets/base",
          "model_name": "LayoutModel",
          "model_module_version": "1.2.0",
          "state": {
            "_model_module": "@jupyter-widgets/base",
            "_model_module_version": "1.2.0",
            "_model_name": "LayoutModel",
            "_view_count": null,
            "_view_module": "@jupyter-widgets/base",
            "_view_module_version": "1.2.0",
            "_view_name": "LayoutView",
            "align_content": null,
            "align_items": null,
            "align_self": null,
            "border": null,
            "bottom": null,
            "display": null,
            "flex": null,
            "flex_flow": null,
            "grid_area": null,
            "grid_auto_columns": null,
            "grid_auto_flow": null,
            "grid_auto_rows": null,
            "grid_column": null,
            "grid_gap": null,
            "grid_row": null,
            "grid_template_areas": null,
            "grid_template_columns": null,
            "grid_template_rows": null,
            "height": null,
            "justify_content": null,
            "justify_items": null,
            "left": null,
            "margin": null,
            "max_height": null,
            "max_width": null,
            "min_height": null,
            "min_width": null,
            "object_fit": null,
            "object_position": null,
            "order": null,
            "overflow": null,
            "overflow_x": null,
            "overflow_y": null,
            "padding": null,
            "right": null,
            "top": null,
            "visibility": null,
            "width": null
          }
        },
        "2a46102361824058b5235d39d9bc1fc2": {
          "model_module": "@jupyter-widgets/controls",
          "model_name": "DescriptionStyleModel",
          "model_module_version": "1.5.0",
          "state": {
            "_model_module": "@jupyter-widgets/controls",
            "_model_module_version": "1.5.0",
            "_model_name": "DescriptionStyleModel",
            "_view_count": null,
            "_view_module": "@jupyter-widgets/base",
            "_view_module_version": "1.2.0",
            "_view_name": "StyleView",
            "description_width": ""
          }
        },
        "74e2442331564b1088067e01c5a7242a": {
          "model_module": "@jupyter-widgets/base",
          "model_name": "LayoutModel",
          "model_module_version": "1.2.0",
          "state": {
            "_model_module": "@jupyter-widgets/base",
            "_model_module_version": "1.2.0",
            "_model_name": "LayoutModel",
            "_view_count": null,
            "_view_module": "@jupyter-widgets/base",
            "_view_module_version": "1.2.0",
            "_view_name": "LayoutView",
            "align_content": null,
            "align_items": null,
            "align_self": null,
            "border": null,
            "bottom": null,
            "display": null,
            "flex": null,
            "flex_flow": null,
            "grid_area": null,
            "grid_auto_columns": null,
            "grid_auto_flow": null,
            "grid_auto_rows": null,
            "grid_column": null,
            "grid_gap": null,
            "grid_row": null,
            "grid_template_areas": null,
            "grid_template_columns": null,
            "grid_template_rows": null,
            "height": null,
            "justify_content": null,
            "justify_items": null,
            "left": null,
            "margin": null,
            "max_height": null,
            "max_width": null,
            "min_height": null,
            "min_width": null,
            "object_fit": null,
            "object_position": null,
            "order": null,
            "overflow": null,
            "overflow_x": null,
            "overflow_y": null,
            "padding": null,
            "right": null,
            "top": null,
            "visibility": null,
            "width": "20px"
          }
        },
        "073c3a25f7b8405f87240448950810ad": {
          "model_module": "@jupyter-widgets/controls",
          "model_name": "ProgressStyleModel",
          "model_module_version": "1.5.0",
          "state": {
            "_model_module": "@jupyter-widgets/controls",
            "_model_module_version": "1.5.0",
            "_model_name": "ProgressStyleModel",
            "_view_count": null,
            "_view_module": "@jupyter-widgets/base",
            "_view_module_version": "1.2.0",
            "_view_name": "StyleView",
            "bar_color": null,
            "description_width": ""
          }
        },
        "04a360897ebf4298b92d3b788d1d3a8e": {
          "model_module": "@jupyter-widgets/base",
          "model_name": "LayoutModel",
          "model_module_version": "1.2.0",
          "state": {
            "_model_module": "@jupyter-widgets/base",
            "_model_module_version": "1.2.0",
            "_model_name": "LayoutModel",
            "_view_count": null,
            "_view_module": "@jupyter-widgets/base",
            "_view_module_version": "1.2.0",
            "_view_name": "LayoutView",
            "align_content": null,
            "align_items": null,
            "align_self": null,
            "border": null,
            "bottom": null,
            "display": null,
            "flex": null,
            "flex_flow": null,
            "grid_area": null,
            "grid_auto_columns": null,
            "grid_auto_flow": null,
            "grid_auto_rows": null,
            "grid_column": null,
            "grid_gap": null,
            "grid_row": null,
            "grid_template_areas": null,
            "grid_template_columns": null,
            "grid_template_rows": null,
            "height": null,
            "justify_content": null,
            "justify_items": null,
            "left": null,
            "margin": null,
            "max_height": null,
            "max_width": null,
            "min_height": null,
            "min_width": null,
            "object_fit": null,
            "object_position": null,
            "order": null,
            "overflow": null,
            "overflow_x": null,
            "overflow_y": null,
            "padding": null,
            "right": null,
            "top": null,
            "visibility": null,
            "width": null
          }
        },
        "39bdfc51c0124e3ba09f0fb8b86527ef": {
          "model_module": "@jupyter-widgets/controls",
          "model_name": "DescriptionStyleModel",
          "model_module_version": "1.5.0",
          "state": {
            "_model_module": "@jupyter-widgets/controls",
            "_model_module_version": "1.5.0",
            "_model_name": "DescriptionStyleModel",
            "_view_count": null,
            "_view_module": "@jupyter-widgets/base",
            "_view_module_version": "1.2.0",
            "_view_name": "StyleView",
            "description_width": ""
          }
        },
        "bc81c47fe85a4d3188d574a17d07f9fc": {
          "model_module": "@jupyter-widgets/controls",
          "model_name": "HBoxModel",
          "model_module_version": "1.5.0",
          "state": {
            "_dom_classes": [],
            "_model_module": "@jupyter-widgets/controls",
            "_model_module_version": "1.5.0",
            "_model_name": "HBoxModel",
            "_view_count": null,
            "_view_module": "@jupyter-widgets/controls",
            "_view_module_version": "1.5.0",
            "_view_name": "HBoxView",
            "box_style": "",
            "children": [
              "IPY_MODEL_6cbce24eab134cec9542852504d2b4bd",
              "IPY_MODEL_08c9bfd36d0d4dc788e59d8b1b61d64c",
              "IPY_MODEL_36ef8900a80e40d3a3d94e391be681e7"
            ],
            "layout": "IPY_MODEL_81410d8db269403ea39fc3db9f83d5a6"
          }
        },
        "6cbce24eab134cec9542852504d2b4bd": {
          "model_module": "@jupyter-widgets/controls",
          "model_name": "HTMLModel",
          "model_module_version": "1.5.0",
          "state": {
            "_dom_classes": [],
            "_model_module": "@jupyter-widgets/controls",
            "_model_module_version": "1.5.0",
            "_model_name": "HTMLModel",
            "_view_count": null,
            "_view_module": "@jupyter-widgets/controls",
            "_view_module_version": "1.5.0",
            "_view_name": "HTMLView",
            "description": "",
            "description_tooltip": null,
            "layout": "IPY_MODEL_6bfe2c7a556842478b417c7416afbf5a",
            "placeholder": "​",
            "style": "IPY_MODEL_40697c93fd7a4f65acf53b4a32c31d29",
            "value": "Generating splits...: 100%"
          }
        },
        "08c9bfd36d0d4dc788e59d8b1b61d64c": {
          "model_module": "@jupyter-widgets/controls",
          "model_name": "FloatProgressModel",
          "model_module_version": "1.5.0",
          "state": {
            "_dom_classes": [],
            "_model_module": "@jupyter-widgets/controls",
            "_model_module_version": "1.5.0",
            "_model_name": "FloatProgressModel",
            "_view_count": null,
            "_view_module": "@jupyter-widgets/controls",
            "_view_module_version": "1.5.0",
            "_view_name": "ProgressView",
            "bar_style": "",
            "description": "",
            "description_tooltip": null,
            "layout": "IPY_MODEL_af00fd38b05943bdbe2e3df4f4b94a73",
            "max": 1,
            "min": 0,
            "orientation": "horizontal",
            "style": "IPY_MODEL_f7ac2952da1b48998320eb90b0c2b388",
            "value": 1
          }
        },
        "36ef8900a80e40d3a3d94e391be681e7": {
          "model_module": "@jupyter-widgets/controls",
          "model_name": "HTMLModel",
          "model_module_version": "1.5.0",
          "state": {
            "_dom_classes": [],
            "_model_module": "@jupyter-widgets/controls",
            "_model_module_version": "1.5.0",
            "_model_name": "HTMLModel",
            "_view_count": null,
            "_view_module": "@jupyter-widgets/controls",
            "_view_module_version": "1.5.0",
            "_view_name": "HTMLView",
            "description": "",
            "description_tooltip": null,
            "layout": "IPY_MODEL_0e960e0d9bd646d49bb2736ef856c516",
            "placeholder": "​",
            "style": "IPY_MODEL_b59d9c352d994018915f7d426ef2ac28",
            "value": " 1/1 [00:12&lt;00:00, 12.86s/ splits]"
          }
        },
        "81410d8db269403ea39fc3db9f83d5a6": {
          "model_module": "@jupyter-widgets/base",
          "model_name": "LayoutModel",
          "model_module_version": "1.2.0",
          "state": {
            "_model_module": "@jupyter-widgets/base",
            "_model_module_version": "1.2.0",
            "_model_name": "LayoutModel",
            "_view_count": null,
            "_view_module": "@jupyter-widgets/base",
            "_view_module_version": "1.2.0",
            "_view_name": "LayoutView",
            "align_content": null,
            "align_items": null,
            "align_self": null,
            "border": null,
            "bottom": null,
            "display": null,
            "flex": null,
            "flex_flow": null,
            "grid_area": null,
            "grid_auto_columns": null,
            "grid_auto_flow": null,
            "grid_auto_rows": null,
            "grid_column": null,
            "grid_gap": null,
            "grid_row": null,
            "grid_template_areas": null,
            "grid_template_columns": null,
            "grid_template_rows": null,
            "height": null,
            "justify_content": null,
            "justify_items": null,
            "left": null,
            "margin": null,
            "max_height": null,
            "max_width": null,
            "min_height": null,
            "min_width": null,
            "object_fit": null,
            "object_position": null,
            "order": null,
            "overflow": null,
            "overflow_x": null,
            "overflow_y": null,
            "padding": null,
            "right": null,
            "top": null,
            "visibility": "hidden",
            "width": null
          }
        },
        "6bfe2c7a556842478b417c7416afbf5a": {
          "model_module": "@jupyter-widgets/base",
          "model_name": "LayoutModel",
          "model_module_version": "1.2.0",
          "state": {
            "_model_module": "@jupyter-widgets/base",
            "_model_module_version": "1.2.0",
            "_model_name": "LayoutModel",
            "_view_count": null,
            "_view_module": "@jupyter-widgets/base",
            "_view_module_version": "1.2.0",
            "_view_name": "LayoutView",
            "align_content": null,
            "align_items": null,
            "align_self": null,
            "border": null,
            "bottom": null,
            "display": null,
            "flex": null,
            "flex_flow": null,
            "grid_area": null,
            "grid_auto_columns": null,
            "grid_auto_flow": null,
            "grid_auto_rows": null,
            "grid_column": null,
            "grid_gap": null,
            "grid_row": null,
            "grid_template_areas": null,
            "grid_template_columns": null,
            "grid_template_rows": null,
            "height": null,
            "justify_content": null,
            "justify_items": null,
            "left": null,
            "margin": null,
            "max_height": null,
            "max_width": null,
            "min_height": null,
            "min_width": null,
            "object_fit": null,
            "object_position": null,
            "order": null,
            "overflow": null,
            "overflow_x": null,
            "overflow_y": null,
            "padding": null,
            "right": null,
            "top": null,
            "visibility": null,
            "width": null
          }
        },
        "40697c93fd7a4f65acf53b4a32c31d29": {
          "model_module": "@jupyter-widgets/controls",
          "model_name": "DescriptionStyleModel",
          "model_module_version": "1.5.0",
          "state": {
            "_model_module": "@jupyter-widgets/controls",
            "_model_module_version": "1.5.0",
            "_model_name": "DescriptionStyleModel",
            "_view_count": null,
            "_view_module": "@jupyter-widgets/base",
            "_view_module_version": "1.2.0",
            "_view_name": "StyleView",
            "description_width": ""
          }
        },
        "af00fd38b05943bdbe2e3df4f4b94a73": {
          "model_module": "@jupyter-widgets/base",
          "model_name": "LayoutModel",
          "model_module_version": "1.2.0",
          "state": {
            "_model_module": "@jupyter-widgets/base",
            "_model_module_version": "1.2.0",
            "_model_name": "LayoutModel",
            "_view_count": null,
            "_view_module": "@jupyter-widgets/base",
            "_view_module_version": "1.2.0",
            "_view_name": "LayoutView",
            "align_content": null,
            "align_items": null,
            "align_self": null,
            "border": null,
            "bottom": null,
            "display": null,
            "flex": null,
            "flex_flow": null,
            "grid_area": null,
            "grid_auto_columns": null,
            "grid_auto_flow": null,
            "grid_auto_rows": null,
            "grid_column": null,
            "grid_gap": null,
            "grid_row": null,
            "grid_template_areas": null,
            "grid_template_columns": null,
            "grid_template_rows": null,
            "height": null,
            "justify_content": null,
            "justify_items": null,
            "left": null,
            "margin": null,
            "max_height": null,
            "max_width": null,
            "min_height": null,
            "min_width": null,
            "object_fit": null,
            "object_position": null,
            "order": null,
            "overflow": null,
            "overflow_x": null,
            "overflow_y": null,
            "padding": null,
            "right": null,
            "top": null,
            "visibility": null,
            "width": null
          }
        },
        "f7ac2952da1b48998320eb90b0c2b388": {
          "model_module": "@jupyter-widgets/controls",
          "model_name": "ProgressStyleModel",
          "model_module_version": "1.5.0",
          "state": {
            "_model_module": "@jupyter-widgets/controls",
            "_model_module_version": "1.5.0",
            "_model_name": "ProgressStyleModel",
            "_view_count": null,
            "_view_module": "@jupyter-widgets/base",
            "_view_module_version": "1.2.0",
            "_view_name": "StyleView",
            "bar_color": null,
            "description_width": ""
          }
        },
        "0e960e0d9bd646d49bb2736ef856c516": {
          "model_module": "@jupyter-widgets/base",
          "model_name": "LayoutModel",
          "model_module_version": "1.2.0",
          "state": {
            "_model_module": "@jupyter-widgets/base",
            "_model_module_version": "1.2.0",
            "_model_name": "LayoutModel",
            "_view_count": null,
            "_view_module": "@jupyter-widgets/base",
            "_view_module_version": "1.2.0",
            "_view_name": "LayoutView",
            "align_content": null,
            "align_items": null,
            "align_self": null,
            "border": null,
            "bottom": null,
            "display": null,
            "flex": null,
            "flex_flow": null,
            "grid_area": null,
            "grid_auto_columns": null,
            "grid_auto_flow": null,
            "grid_auto_rows": null,
            "grid_column": null,
            "grid_gap": null,
            "grid_row": null,
            "grid_template_areas": null,
            "grid_template_columns": null,
            "grid_template_rows": null,
            "height": null,
            "justify_content": null,
            "justify_items": null,
            "left": null,
            "margin": null,
            "max_height": null,
            "max_width": null,
            "min_height": null,
            "min_width": null,
            "object_fit": null,
            "object_position": null,
            "order": null,
            "overflow": null,
            "overflow_x": null,
            "overflow_y": null,
            "padding": null,
            "right": null,
            "top": null,
            "visibility": null,
            "width": null
          }
        },
        "b59d9c352d994018915f7d426ef2ac28": {
          "model_module": "@jupyter-widgets/controls",
          "model_name": "DescriptionStyleModel",
          "model_module_version": "1.5.0",
          "state": {
            "_model_module": "@jupyter-widgets/controls",
            "_model_module_version": "1.5.0",
            "_model_name": "DescriptionStyleModel",
            "_view_count": null,
            "_view_module": "@jupyter-widgets/base",
            "_view_module_version": "1.2.0",
            "_view_name": "StyleView",
            "description_width": ""
          }
        },
        "1a592baa768d4c8f817d1e4ec975dc22": {
          "model_module": "@jupyter-widgets/controls",
          "model_name": "HBoxModel",
          "model_module_version": "1.5.0",
          "state": {
            "_dom_classes": [],
            "_model_module": "@jupyter-widgets/controls",
            "_model_module_version": "1.5.0",
            "_model_name": "HBoxModel",
            "_view_count": null,
            "_view_module": "@jupyter-widgets/controls",
            "_view_module_version": "1.5.0",
            "_view_name": "HBoxView",
            "box_style": "",
            "children": [
              "IPY_MODEL_8880b31544a14df3b654ef6e75a109c9",
              "IPY_MODEL_66555f2202f44bc2a07dae0796088990",
              "IPY_MODEL_cb5a6e6e556047f78f2a96e0868d23e9"
            ],
            "layout": "IPY_MODEL_fe4594126c414c88a7df0163e4c98a83"
          }
        },
        "8880b31544a14df3b654ef6e75a109c9": {
          "model_module": "@jupyter-widgets/controls",
          "model_name": "HTMLModel",
          "model_module_version": "1.5.0",
          "state": {
            "_dom_classes": [],
            "_model_module": "@jupyter-widgets/controls",
            "_model_module_version": "1.5.0",
            "_model_name": "HTMLModel",
            "_view_count": null,
            "_view_module": "@jupyter-widgets/controls",
            "_view_module_version": "1.5.0",
            "_view_name": "HTMLView",
            "description": "",
            "description_tooltip": null,
            "layout": "IPY_MODEL_c8c0ad19b0a5479280e40e07de780ef0",
            "placeholder": "​",
            "style": "IPY_MODEL_66da7576ed844df49aec1df7fc7225fc",
            "value": "Generating train examples...:  80%"
          }
        },
        "66555f2202f44bc2a07dae0796088990": {
          "model_module": "@jupyter-widgets/controls",
          "model_name": "FloatProgressModel",
          "model_module_version": "1.5.0",
          "state": {
            "_dom_classes": [],
            "_model_module": "@jupyter-widgets/controls",
            "_model_module_version": "1.5.0",
            "_model_name": "FloatProgressModel",
            "_view_count": null,
            "_view_module": "@jupyter-widgets/controls",
            "_view_module_version": "1.5.0",
            "_view_name": "ProgressView",
            "bar_style": "",
            "description": "",
            "description_tooltip": null,
            "layout": "IPY_MODEL_f83d4630681e4b0483ed776e03124ca0",
            "max": 27558,
            "min": 0,
            "orientation": "horizontal",
            "style": "IPY_MODEL_f3e9d81314ad4ea8856e37640f4776f9",
            "value": 27558
          }
        },
        "cb5a6e6e556047f78f2a96e0868d23e9": {
          "model_module": "@jupyter-widgets/controls",
          "model_name": "HTMLModel",
          "model_module_version": "1.5.0",
          "state": {
            "_dom_classes": [],
            "_model_module": "@jupyter-widgets/controls",
            "_model_module_version": "1.5.0",
            "_model_name": "HTMLModel",
            "_view_count": null,
            "_view_module": "@jupyter-widgets/controls",
            "_view_module_version": "1.5.0",
            "_view_name": "HTMLView",
            "description": "",
            "description_tooltip": null,
            "layout": "IPY_MODEL_0b24d8f19b1f4f6ea805b16426a17163",
            "placeholder": "​",
            "style": "IPY_MODEL_418ed00adb3e4f22aa3b750dcabb2584",
            "value": " 22151/27558 [00:09&lt;00:01, 4408.36 examples/s]"
          }
        },
        "fe4594126c414c88a7df0163e4c98a83": {
          "model_module": "@jupyter-widgets/base",
          "model_name": "LayoutModel",
          "model_module_version": "1.2.0",
          "state": {
            "_model_module": "@jupyter-widgets/base",
            "_model_module_version": "1.2.0",
            "_model_name": "LayoutModel",
            "_view_count": null,
            "_view_module": "@jupyter-widgets/base",
            "_view_module_version": "1.2.0",
            "_view_name": "LayoutView",
            "align_content": null,
            "align_items": null,
            "align_self": null,
            "border": null,
            "bottom": null,
            "display": null,
            "flex": null,
            "flex_flow": null,
            "grid_area": null,
            "grid_auto_columns": null,
            "grid_auto_flow": null,
            "grid_auto_rows": null,
            "grid_column": null,
            "grid_gap": null,
            "grid_row": null,
            "grid_template_areas": null,
            "grid_template_columns": null,
            "grid_template_rows": null,
            "height": null,
            "justify_content": null,
            "justify_items": null,
            "left": null,
            "margin": null,
            "max_height": null,
            "max_width": null,
            "min_height": null,
            "min_width": null,
            "object_fit": null,
            "object_position": null,
            "order": null,
            "overflow": null,
            "overflow_x": null,
            "overflow_y": null,
            "padding": null,
            "right": null,
            "top": null,
            "visibility": "hidden",
            "width": null
          }
        },
        "c8c0ad19b0a5479280e40e07de780ef0": {
          "model_module": "@jupyter-widgets/base",
          "model_name": "LayoutModel",
          "model_module_version": "1.2.0",
          "state": {
            "_model_module": "@jupyter-widgets/base",
            "_model_module_version": "1.2.0",
            "_model_name": "LayoutModel",
            "_view_count": null,
            "_view_module": "@jupyter-widgets/base",
            "_view_module_version": "1.2.0",
            "_view_name": "LayoutView",
            "align_content": null,
            "align_items": null,
            "align_self": null,
            "border": null,
            "bottom": null,
            "display": null,
            "flex": null,
            "flex_flow": null,
            "grid_area": null,
            "grid_auto_columns": null,
            "grid_auto_flow": null,
            "grid_auto_rows": null,
            "grid_column": null,
            "grid_gap": null,
            "grid_row": null,
            "grid_template_areas": null,
            "grid_template_columns": null,
            "grid_template_rows": null,
            "height": null,
            "justify_content": null,
            "justify_items": null,
            "left": null,
            "margin": null,
            "max_height": null,
            "max_width": null,
            "min_height": null,
            "min_width": null,
            "object_fit": null,
            "object_position": null,
            "order": null,
            "overflow": null,
            "overflow_x": null,
            "overflow_y": null,
            "padding": null,
            "right": null,
            "top": null,
            "visibility": null,
            "width": null
          }
        },
        "66da7576ed844df49aec1df7fc7225fc": {
          "model_module": "@jupyter-widgets/controls",
          "model_name": "DescriptionStyleModel",
          "model_module_version": "1.5.0",
          "state": {
            "_model_module": "@jupyter-widgets/controls",
            "_model_module_version": "1.5.0",
            "_model_name": "DescriptionStyleModel",
            "_view_count": null,
            "_view_module": "@jupyter-widgets/base",
            "_view_module_version": "1.2.0",
            "_view_name": "StyleView",
            "description_width": ""
          }
        },
        "f83d4630681e4b0483ed776e03124ca0": {
          "model_module": "@jupyter-widgets/base",
          "model_name": "LayoutModel",
          "model_module_version": "1.2.0",
          "state": {
            "_model_module": "@jupyter-widgets/base",
            "_model_module_version": "1.2.0",
            "_model_name": "LayoutModel",
            "_view_count": null,
            "_view_module": "@jupyter-widgets/base",
            "_view_module_version": "1.2.0",
            "_view_name": "LayoutView",
            "align_content": null,
            "align_items": null,
            "align_self": null,
            "border": null,
            "bottom": null,
            "display": null,
            "flex": null,
            "flex_flow": null,
            "grid_area": null,
            "grid_auto_columns": null,
            "grid_auto_flow": null,
            "grid_auto_rows": null,
            "grid_column": null,
            "grid_gap": null,
            "grid_row": null,
            "grid_template_areas": null,
            "grid_template_columns": null,
            "grid_template_rows": null,
            "height": null,
            "justify_content": null,
            "justify_items": null,
            "left": null,
            "margin": null,
            "max_height": null,
            "max_width": null,
            "min_height": null,
            "min_width": null,
            "object_fit": null,
            "object_position": null,
            "order": null,
            "overflow": null,
            "overflow_x": null,
            "overflow_y": null,
            "padding": null,
            "right": null,
            "top": null,
            "visibility": null,
            "width": null
          }
        },
        "f3e9d81314ad4ea8856e37640f4776f9": {
          "model_module": "@jupyter-widgets/controls",
          "model_name": "ProgressStyleModel",
          "model_module_version": "1.5.0",
          "state": {
            "_model_module": "@jupyter-widgets/controls",
            "_model_module_version": "1.5.0",
            "_model_name": "ProgressStyleModel",
            "_view_count": null,
            "_view_module": "@jupyter-widgets/base",
            "_view_module_version": "1.2.0",
            "_view_name": "StyleView",
            "bar_color": null,
            "description_width": ""
          }
        },
        "0b24d8f19b1f4f6ea805b16426a17163": {
          "model_module": "@jupyter-widgets/base",
          "model_name": "LayoutModel",
          "model_module_version": "1.2.0",
          "state": {
            "_model_module": "@jupyter-widgets/base",
            "_model_module_version": "1.2.0",
            "_model_name": "LayoutModel",
            "_view_count": null,
            "_view_module": "@jupyter-widgets/base",
            "_view_module_version": "1.2.0",
            "_view_name": "LayoutView",
            "align_content": null,
            "align_items": null,
            "align_self": null,
            "border": null,
            "bottom": null,
            "display": null,
            "flex": null,
            "flex_flow": null,
            "grid_area": null,
            "grid_auto_columns": null,
            "grid_auto_flow": null,
            "grid_auto_rows": null,
            "grid_column": null,
            "grid_gap": null,
            "grid_row": null,
            "grid_template_areas": null,
            "grid_template_columns": null,
            "grid_template_rows": null,
            "height": null,
            "justify_content": null,
            "justify_items": null,
            "left": null,
            "margin": null,
            "max_height": null,
            "max_width": null,
            "min_height": null,
            "min_width": null,
            "object_fit": null,
            "object_position": null,
            "order": null,
            "overflow": null,
            "overflow_x": null,
            "overflow_y": null,
            "padding": null,
            "right": null,
            "top": null,
            "visibility": null,
            "width": null
          }
        },
        "418ed00adb3e4f22aa3b750dcabb2584": {
          "model_module": "@jupyter-widgets/controls",
          "model_name": "DescriptionStyleModel",
          "model_module_version": "1.5.0",
          "state": {
            "_model_module": "@jupyter-widgets/controls",
            "_model_module_version": "1.5.0",
            "_model_name": "DescriptionStyleModel",
            "_view_count": null,
            "_view_module": "@jupyter-widgets/base",
            "_view_module_version": "1.2.0",
            "_view_name": "StyleView",
            "description_width": ""
          }
        },
        "35bef2a85bf743ab88719ad7f2ba83bf": {
          "model_module": "@jupyter-widgets/controls",
          "model_name": "HBoxModel",
          "model_module_version": "1.5.0",
          "state": {
            "_dom_classes": [],
            "_model_module": "@jupyter-widgets/controls",
            "_model_module_version": "1.5.0",
            "_model_name": "HBoxModel",
            "_view_count": null,
            "_view_module": "@jupyter-widgets/controls",
            "_view_module_version": "1.5.0",
            "_view_name": "HBoxView",
            "box_style": "",
            "children": [
              "IPY_MODEL_48b082e9466f462386698f38d7eddebe",
              "IPY_MODEL_fb17d94e2a33464dab999d3f254ed686",
              "IPY_MODEL_da4eca9522b5455184105b743e78e979"
            ],
            "layout": "IPY_MODEL_60c6e1d4200a4ca9b5b2d4eb223404d6"
          }
        },
        "48b082e9466f462386698f38d7eddebe": {
          "model_module": "@jupyter-widgets/controls",
          "model_name": "HTMLModel",
          "model_module_version": "1.5.0",
          "state": {
            "_dom_classes": [],
            "_model_module": "@jupyter-widgets/controls",
            "_model_module_version": "1.5.0",
            "_model_name": "HTMLModel",
            "_view_count": null,
            "_view_module": "@jupyter-widgets/controls",
            "_view_module_version": "1.5.0",
            "_view_name": "HTMLView",
            "description": "",
            "description_tooltip": null,
            "layout": "IPY_MODEL_cff83e5426af47248453f8e0faba6cf6",
            "placeholder": "​",
            "style": "IPY_MODEL_bd2ff9a11eb74e30a9ac1142c3d11585",
            "value": "Shuffling /root/tensorflow_datasets/malaria/1.0.0.incompleteC6YAZ3/malaria-train.tfrecord*...:  85%"
          }
        },
        "fb17d94e2a33464dab999d3f254ed686": {
          "model_module": "@jupyter-widgets/controls",
          "model_name": "FloatProgressModel",
          "model_module_version": "1.5.0",
          "state": {
            "_dom_classes": [],
            "_model_module": "@jupyter-widgets/controls",
            "_model_module_version": "1.5.0",
            "_model_name": "FloatProgressModel",
            "_view_count": null,
            "_view_module": "@jupyter-widgets/controls",
            "_view_module_version": "1.5.0",
            "_view_name": "ProgressView",
            "bar_style": "",
            "description": "",
            "description_tooltip": null,
            "layout": "IPY_MODEL_61d328144b6e4e02aab246cf1a93566e",
            "max": 27558,
            "min": 0,
            "orientation": "horizontal",
            "style": "IPY_MODEL_66987db11d3e4014b0f27f97f0cfca65",
            "value": 27558
          }
        },
        "da4eca9522b5455184105b743e78e979": {
          "model_module": "@jupyter-widgets/controls",
          "model_name": "HTMLModel",
          "model_module_version": "1.5.0",
          "state": {
            "_dom_classes": [],
            "_model_module": "@jupyter-widgets/controls",
            "_model_module_version": "1.5.0",
            "_model_name": "HTMLModel",
            "_view_count": null,
            "_view_module": "@jupyter-widgets/controls",
            "_view_module_version": "1.5.0",
            "_view_name": "HTMLView",
            "description": "",
            "description_tooltip": null,
            "layout": "IPY_MODEL_f0be7e59ff004faebdc224448ebe8b70",
            "placeholder": "​",
            "style": "IPY_MODEL_a9513ec89a854091bff5e651807fd656",
            "value": " 23386/27558 [00:00&lt;00:00, 59982.11 examples/s]"
          }
        },
        "60c6e1d4200a4ca9b5b2d4eb223404d6": {
          "model_module": "@jupyter-widgets/base",
          "model_name": "LayoutModel",
          "model_module_version": "1.2.0",
          "state": {
            "_model_module": "@jupyter-widgets/base",
            "_model_module_version": "1.2.0",
            "_model_name": "LayoutModel",
            "_view_count": null,
            "_view_module": "@jupyter-widgets/base",
            "_view_module_version": "1.2.0",
            "_view_name": "LayoutView",
            "align_content": null,
            "align_items": null,
            "align_self": null,
            "border": null,
            "bottom": null,
            "display": null,
            "flex": null,
            "flex_flow": null,
            "grid_area": null,
            "grid_auto_columns": null,
            "grid_auto_flow": null,
            "grid_auto_rows": null,
            "grid_column": null,
            "grid_gap": null,
            "grid_row": null,
            "grid_template_areas": null,
            "grid_template_columns": null,
            "grid_template_rows": null,
            "height": null,
            "justify_content": null,
            "justify_items": null,
            "left": null,
            "margin": null,
            "max_height": null,
            "max_width": null,
            "min_height": null,
            "min_width": null,
            "object_fit": null,
            "object_position": null,
            "order": null,
            "overflow": null,
            "overflow_x": null,
            "overflow_y": null,
            "padding": null,
            "right": null,
            "top": null,
            "visibility": "hidden",
            "width": null
          }
        },
        "cff83e5426af47248453f8e0faba6cf6": {
          "model_module": "@jupyter-widgets/base",
          "model_name": "LayoutModel",
          "model_module_version": "1.2.0",
          "state": {
            "_model_module": "@jupyter-widgets/base",
            "_model_module_version": "1.2.0",
            "_model_name": "LayoutModel",
            "_view_count": null,
            "_view_module": "@jupyter-widgets/base",
            "_view_module_version": "1.2.0",
            "_view_name": "LayoutView",
            "align_content": null,
            "align_items": null,
            "align_self": null,
            "border": null,
            "bottom": null,
            "display": null,
            "flex": null,
            "flex_flow": null,
            "grid_area": null,
            "grid_auto_columns": null,
            "grid_auto_flow": null,
            "grid_auto_rows": null,
            "grid_column": null,
            "grid_gap": null,
            "grid_row": null,
            "grid_template_areas": null,
            "grid_template_columns": null,
            "grid_template_rows": null,
            "height": null,
            "justify_content": null,
            "justify_items": null,
            "left": null,
            "margin": null,
            "max_height": null,
            "max_width": null,
            "min_height": null,
            "min_width": null,
            "object_fit": null,
            "object_position": null,
            "order": null,
            "overflow": null,
            "overflow_x": null,
            "overflow_y": null,
            "padding": null,
            "right": null,
            "top": null,
            "visibility": null,
            "width": null
          }
        },
        "bd2ff9a11eb74e30a9ac1142c3d11585": {
          "model_module": "@jupyter-widgets/controls",
          "model_name": "DescriptionStyleModel",
          "model_module_version": "1.5.0",
          "state": {
            "_model_module": "@jupyter-widgets/controls",
            "_model_module_version": "1.5.0",
            "_model_name": "DescriptionStyleModel",
            "_view_count": null,
            "_view_module": "@jupyter-widgets/base",
            "_view_module_version": "1.2.0",
            "_view_name": "StyleView",
            "description_width": ""
          }
        },
        "61d328144b6e4e02aab246cf1a93566e": {
          "model_module": "@jupyter-widgets/base",
          "model_name": "LayoutModel",
          "model_module_version": "1.2.0",
          "state": {
            "_model_module": "@jupyter-widgets/base",
            "_model_module_version": "1.2.0",
            "_model_name": "LayoutModel",
            "_view_count": null,
            "_view_module": "@jupyter-widgets/base",
            "_view_module_version": "1.2.0",
            "_view_name": "LayoutView",
            "align_content": null,
            "align_items": null,
            "align_self": null,
            "border": null,
            "bottom": null,
            "display": null,
            "flex": null,
            "flex_flow": null,
            "grid_area": null,
            "grid_auto_columns": null,
            "grid_auto_flow": null,
            "grid_auto_rows": null,
            "grid_column": null,
            "grid_gap": null,
            "grid_row": null,
            "grid_template_areas": null,
            "grid_template_columns": null,
            "grid_template_rows": null,
            "height": null,
            "justify_content": null,
            "justify_items": null,
            "left": null,
            "margin": null,
            "max_height": null,
            "max_width": null,
            "min_height": null,
            "min_width": null,
            "object_fit": null,
            "object_position": null,
            "order": null,
            "overflow": null,
            "overflow_x": null,
            "overflow_y": null,
            "padding": null,
            "right": null,
            "top": null,
            "visibility": null,
            "width": null
          }
        },
        "66987db11d3e4014b0f27f97f0cfca65": {
          "model_module": "@jupyter-widgets/controls",
          "model_name": "ProgressStyleModel",
          "model_module_version": "1.5.0",
          "state": {
            "_model_module": "@jupyter-widgets/controls",
            "_model_module_version": "1.5.0",
            "_model_name": "ProgressStyleModel",
            "_view_count": null,
            "_view_module": "@jupyter-widgets/base",
            "_view_module_version": "1.2.0",
            "_view_name": "StyleView",
            "bar_color": null,
            "description_width": ""
          }
        },
        "f0be7e59ff004faebdc224448ebe8b70": {
          "model_module": "@jupyter-widgets/base",
          "model_name": "LayoutModel",
          "model_module_version": "1.2.0",
          "state": {
            "_model_module": "@jupyter-widgets/base",
            "_model_module_version": "1.2.0",
            "_model_name": "LayoutModel",
            "_view_count": null,
            "_view_module": "@jupyter-widgets/base",
            "_view_module_version": "1.2.0",
            "_view_name": "LayoutView",
            "align_content": null,
            "align_items": null,
            "align_self": null,
            "border": null,
            "bottom": null,
            "display": null,
            "flex": null,
            "flex_flow": null,
            "grid_area": null,
            "grid_auto_columns": null,
            "grid_auto_flow": null,
            "grid_auto_rows": null,
            "grid_column": null,
            "grid_gap": null,
            "grid_row": null,
            "grid_template_areas": null,
            "grid_template_columns": null,
            "grid_template_rows": null,
            "height": null,
            "justify_content": null,
            "justify_items": null,
            "left": null,
            "margin": null,
            "max_height": null,
            "max_width": null,
            "min_height": null,
            "min_width": null,
            "object_fit": null,
            "object_position": null,
            "order": null,
            "overflow": null,
            "overflow_x": null,
            "overflow_y": null,
            "padding": null,
            "right": null,
            "top": null,
            "visibility": null,
            "width": null
          }
        },
        "a9513ec89a854091bff5e651807fd656": {
          "model_module": "@jupyter-widgets/controls",
          "model_name": "DescriptionStyleModel",
          "model_module_version": "1.5.0",
          "state": {
            "_model_module": "@jupyter-widgets/controls",
            "_model_module_version": "1.5.0",
            "_model_name": "DescriptionStyleModel",
            "_view_count": null,
            "_view_module": "@jupyter-widgets/base",
            "_view_module_version": "1.2.0",
            "_view_name": "StyleView",
            "description_width": ""
          }
        }
      }
    }
  },
  "nbformat": 4,
  "nbformat_minor": 0
}
